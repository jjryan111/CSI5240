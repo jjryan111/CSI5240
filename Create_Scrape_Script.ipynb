{
 "cells": [
  {
   "cell_type": "code",
   "execution_count": 5,
   "metadata": {},
   "outputs": [],
   "source": [
    "import datetime\n",
    "from datetime import date\n",
    "a_date = datetime.date(2017, 9, 1)\n",
    "e_date = datetime.date(2017, 10, 1)"
   ]
  },
  {
   "cell_type": "code",
   "execution_count": 6,
   "metadata": {},
   "outputs": [],
   "source": [
    "myfile = open('get_tweets.sh', 'w')\n",
    "while a_date < e_date:\n",
    "    \n",
    "    days = datetime.timedelta(1)\n",
    "    new_date = a_date + days\n",
    "    script_line = 'snscrape --jsonl --progress --max-results 50000 --since {} twitter-search \"equifax until:{}\" > text-query-tweets{}.json'.format(a_date, new_date, new_date)\n",
    "    a_date = new_date\n",
    "    myfile.write(\"%s\\n\" % script_line)\n",
    "\n",
    "myfile.close()\n"
   ]
  },
  {
   "cell_type": "code",
   "execution_count": null,
   "metadata": {},
   "outputs": [],
   "source": []
  }
 ],
 "metadata": {
  "kernelspec": {
   "display_name": "Python 3 (ipykernel)",
   "language": "python",
   "name": "python3"
  },
  "language_info": {
   "codemirror_mode": {
    "name": "ipython",
    "version": 3
   },
   "file_extension": ".py",
   "mimetype": "text/x-python",
   "name": "python",
   "nbconvert_exporter": "python",
   "pygments_lexer": "ipython3",
   "version": "3.9.12"
  }
 },
 "nbformat": 4,
 "nbformat_minor": 4
}
